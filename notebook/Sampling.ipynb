{
 "cells": [
  {
   "cell_type": "markdown",
   "metadata": {},
   "source": [
    "# Sampling Notebook\n",
    "\n",
    "Pada notebook ini akan dilakukan sampling terhadap data sebelum dilakukan labeling secara manual."
   ]
  },
  {
   "cell_type": "markdown",
   "metadata": {},
   "source": [
    "## Import Libraries\n",
    "\n",
    "Import library yang akan digunakan"
   ]
  },
  {
   "cell_type": "code",
   "execution_count": 1,
   "metadata": {},
   "outputs": [],
   "source": [
    "import os\n",
    "import numpy as np\n",
    "import pandas as pd\n",
    "\n",
    "from datetime import datetime"
   ]
  },
  {
   "cell_type": "markdown",
   "metadata": {},
   "source": [
    "## Load Dataset\n",
    "\n",
    "Load data ke memmory menggunakan library pandas."
   ]
  },
  {
   "cell_type": "code",
   "execution_count": 2,
   "metadata": {},
   "outputs": [
    {
     "name": "stdout",
     "output_type": "stream",
     "text": [
      "<class 'pandas.core.frame.DataFrame'>\n",
      "Int64Index: 48985 entries, 0 to 24249\n",
      "Data columns (total 6 columns):\n",
      " #   Column    Non-Null Count  Dtype \n",
      "---  ------    --------------  ----- \n",
      " 0   tanggal   48985 non-null  object\n",
      " 1   tweets    48985 non-null  object\n",
      " 2   username  48985 non-null  object\n",
      " 3   retweet   48985 non-null  int64 \n",
      " 4   source    48985 non-null  object\n",
      " 5   hashtags  48985 non-null  object\n",
      "dtypes: int64(1), object(5)\n",
      "memory usage: 2.6+ MB\n"
     ]
    }
   ],
   "source": [
    "# Import data\n",
    "data1 = pd.read_csv(\"../data/Crawling Twitter Jakarta 26.csv\")\n",
    "data2 = pd.read_csv(\"../data/Crawling Twitter Jakarta 23 - 25.csv\")\n",
    "data3 = pd.read_csv(\"../data/Crawling Twitter Jakarta 20 - 22.csv\")\n",
    "\n",
    "# Concating data\n",
    "data = pd.concat([data1, data2, data3])\n",
    "data.info()"
   ]
  },
  {
   "cell_type": "markdown",
   "metadata": {},
   "source": [
    "## Drop Duplicate\n",
    "\n",
    "Menghapus data yang berduplikasi"
   ]
  },
  {
   "cell_type": "code",
   "execution_count": 3,
   "metadata": {},
   "outputs": [
    {
     "name": "stdout",
     "output_type": "stream",
     "text": [
      "<class 'pandas.core.frame.DataFrame'>\n",
      "Int64Index: 48535 entries, 0 to 24249\n",
      "Data columns (total 6 columns):\n",
      " #   Column    Non-Null Count  Dtype \n",
      "---  ------    --------------  ----- \n",
      " 0   tanggal   48535 non-null  object\n",
      " 1   tweets    48535 non-null  object\n",
      " 2   username  48535 non-null  object\n",
      " 3   retweet   48535 non-null  int64 \n",
      " 4   source    48535 non-null  object\n",
      " 5   hashtags  48535 non-null  object\n",
      "dtypes: int64(1), object(5)\n",
      "memory usage: 2.6+ MB\n"
     ]
    }
   ],
   "source": [
    "data = data.drop_duplicates(\"tweets\")\n",
    "data.info()"
   ]
  },
  {
   "cell_type": "markdown",
   "metadata": {},
   "source": [
    "## Sampling\n",
    "\n",
    "Dilakukan sampling menggunakan method `sample` dari library `pandas` sebanyak 700 data.\n",
    "\n",
    "**Note** : Naikan banyak sample agar model yang dibuat lebih baik dan relevant terhadap banyak kasus"
   ]
  },
  {
   "cell_type": "code",
   "execution_count": 4,
   "metadata": {},
   "outputs": [
    {
     "name": "stdout",
     "output_type": "stream",
     "text": [
      "<class 'pandas.core.frame.DataFrame'>\n",
      "Int64Index: 700 entries, 2969 to 6116\n",
      "Data columns (total 6 columns):\n",
      " #   Column    Non-Null Count  Dtype \n",
      "---  ------    --------------  ----- \n",
      " 0   tanggal   700 non-null    object\n",
      " 1   tweets    700 non-null    object\n",
      " 2   username  700 non-null    object\n",
      " 3   retweet   700 non-null    int64 \n",
      " 4   source    700 non-null    object\n",
      " 5   hashtags  700 non-null    object\n",
      "dtypes: int64(1), object(5)\n",
      "memory usage: 38.3+ KB\n"
     ]
    }
   ],
   "source": [
    "BANYAK_SAMPLE_DATA = 700\n",
    "sample = data.sample(n=BANYAK_SAMPLE_DATA, random_state=2020)\n",
    "sample.info()"
   ]
  },
  {
   "cell_type": "markdown",
   "metadata": {},
   "source": [
    "## Export Sample Dataset\n",
    "\n",
    "Export sample dataset"
   ]
  },
  {
   "cell_type": "code",
   "execution_count": 5,
   "metadata": {},
   "outputs": [],
   "source": [
    "os.makedirs(\"../output\", exist_ok=True)\n",
    "\n",
    "sample.to_csv(f'../output/{datetime.today().strftime(\"%Y-%m-%d\")}_Sample Tweet.csv', index=False)"
   ]
  }
 ],
 "metadata": {
  "kernelspec": {
   "display_name": "Python 3 (ipykernel)",
   "language": "python",
   "name": "python3"
  },
  "language_info": {
   "codemirror_mode": {
    "name": "ipython",
    "version": 3
   },
   "file_extension": ".py",
   "mimetype": "text/x-python",
   "name": "python",
   "nbconvert_exporter": "python",
   "pygments_lexer": "ipython3",
   "version": "3.8.10"
  }
 },
 "nbformat": 4,
 "nbformat_minor": 2
}
