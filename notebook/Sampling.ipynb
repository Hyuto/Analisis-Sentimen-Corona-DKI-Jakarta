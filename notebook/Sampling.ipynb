{
 "cells": [
  {
   "source": [
    "# Sampling Notebook\n",
    "\n",
    "Pada notebook ini akan dilakukan sampling terhadap data sebelum dilakukan labeling secara manual."
   ],
   "cell_type": "markdown",
   "metadata": {}
  },
  {
   "source": [
    "## 1. Import Libraries\n",
    "\n",
    "Import library yang akan digunakan"
   ],
   "cell_type": "markdown",
   "metadata": {}
  },
  {
   "cell_type": "code",
   "execution_count": 1,
   "metadata": {},
   "outputs": [],
   "source": [
    "import numpy as np\n",
    "import pandas as pd\n",
    "\n",
    "from datetime import datetime"
   ]
  },
  {
   "source": [
    "## 2. Load Dataset\n",
    "\n",
    "Load data ke memmory menggunakan library pandas."
   ],
   "cell_type": "markdown",
   "metadata": {}
  },
  {
   "cell_type": "code",
   "execution_count": 2,
   "metadata": {},
   "outputs": [
    {
     "output_type": "stream",
     "name": "stdout",
     "text": [
      "<class 'pandas.core.frame.DataFrame'>\nInt64Index: 250279 entries, 0 to 91320\nData columns (total 8 columns):\n #   Column          Non-Null Count   Dtype \n---  ------          --------------   ----- \n 0   Tanggal         250279 non-null  object\n 1   Tweets          250279 non-null  object\n 2   ID              250279 non-null  int64 \n 3   Screen Name     250279 non-null  object\n 4   Banyak Retweet  250279 non-null  int64 \n 5   Source          250277 non-null  object\n 6   Retweet Status  250279 non-null  int64 \n 7   Hashtags        250279 non-null  object\ndtypes: int64(3), object(5)\nmemory usage: 17.2+ MB\n"
     ]
    }
   ],
   "source": [
    "# Import data\n",
    "data1 = pd.read_csv('../data/Crawling Twitter Jakarta 26 - 27.csv')\n",
    "data2 = pd.read_csv('../data/Crawling Twitter Jakarta 25 - 23.csv')\n",
    "data3 = pd.read_csv('../data/Crawling Twitter Jakarta 22 - 19 setengah.csv')\n",
    "# Concating data\n",
    "data = pd.concat([data1,data2,data3])\n",
    "data.info()"
   ]
  },
  {
   "source": [
    "## 2. Drop Duplicate\n",
    "\n",
    "Menghapus data yang berduplikasi"
   ],
   "cell_type": "markdown",
   "metadata": {}
  },
  {
   "cell_type": "code",
   "execution_count": 3,
   "metadata": {},
   "outputs": [
    {
     "output_type": "stream",
     "name": "stdout",
     "text": [
      "<class 'pandas.core.frame.DataFrame'>\nInt64Index: 70297 entries, 0 to 91316\nData columns (total 8 columns):\n #   Column          Non-Null Count  Dtype \n---  ------          --------------  ----- \n 0   Tanggal         70297 non-null  object\n 1   Tweets          70297 non-null  object\n 2   ID              70297 non-null  int64 \n 3   Screen Name     70297 non-null  object\n 4   Banyak Retweet  70297 non-null  int64 \n 5   Source          70296 non-null  object\n 6   Retweet Status  70297 non-null  int64 \n 7   Hashtags        70297 non-null  object\ndtypes: int64(3), object(5)\nmemory usage: 4.8+ MB\n"
     ]
    }
   ],
   "source": [
    "data = data.drop_duplicates('Tweets')\n",
    "data.info()"
   ]
  },
  {
   "source": [
    "## 3. Sampling\n",
    "\n",
    "Dilakukan sampling menggunakan method `sample` dari library `pandas` sebanyak 700 data.\n",
    "\n",
    "**Note** : Naikan banyak sample agar model yang dibuat lebih baik dan relevant terhadap banyak kasus"
   ],
   "cell_type": "markdown",
   "metadata": {}
  },
  {
   "cell_type": "code",
   "execution_count": 4,
   "metadata": {},
   "outputs": [
    {
     "output_type": "stream",
     "name": "stdout",
     "text": [
      "<class 'pandas.core.frame.DataFrame'>\nInt64Index: 700 entries, 82886 to 4589\nData columns (total 8 columns):\n #   Column          Non-Null Count  Dtype \n---  ------          --------------  ----- \n 0   Tanggal         700 non-null    object\n 1   Tweets          700 non-null    object\n 2   ID              700 non-null    int64 \n 3   Screen Name     700 non-null    object\n 4   Banyak Retweet  700 non-null    int64 \n 5   Source          700 non-null    object\n 6   Retweet Status  700 non-null    int64 \n 7   Hashtags        700 non-null    object\ndtypes: int64(3), object(5)\nmemory usage: 49.2+ KB\n"
     ]
    }
   ],
   "source": [
    "BANYAK_SAMPLE_DATA = 700\n",
    "sample = data.sample(n=BANYAK_SAMPLE_DATA, random_state=2020)\n",
    "sample.info()"
   ]
  },
  {
   "source": [
    "## 4. Export Sample Dataset\n",
    "\n",
    "Export sample dataset"
   ],
   "cell_type": "markdown",
   "metadata": {}
  },
  {
   "cell_type": "code",
   "execution_count": 5,
   "metadata": {},
   "outputs": [],
   "source": [
    "sample.to_csv(f'../data/{datetime.today().strftime(\"%Y-%m-%d\")}_Sample Tweet.csv')"
   ]
  }
 ],
 "metadata": {
  "language_info": {
   "codemirror_mode": {
    "name": "ipython",
    "version": 3
   },
   "file_extension": ".py",
   "mimetype": "text/x-python",
   "name": "python",
   "nbconvert_exporter": "python",
   "pygments_lexer": "ipython3",
   "version": "3.8.7"
  },
  "orig_nbformat": 2,
  "kernelspec": {
   "name": "python3",
   "display_name": "Python 3.8.7 64-bit",
   "metadata": {
    "interpreter": {
     "hash": "65c4c23cc7a338e45a42fd7e8c09f5b07507925084e49176bf1f55b4c6f72018"
    }
   }
  }
 },
 "nbformat": 4,
 "nbformat_minor": 2
}