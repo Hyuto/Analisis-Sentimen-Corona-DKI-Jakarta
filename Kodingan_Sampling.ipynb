{
 "cells": [
  {
   "cell_type": "code",
   "execution_count": 1,
   "metadata": {},
   "outputs": [],
   "source": [
    "import numpy as np\n",
    "import pandas as pd"
   ]
  },
  {
   "cell_type": "code",
   "execution_count": 2,
   "metadata": {},
   "outputs": [],
   "source": [
    "# Import data\n",
    "data1 = pd.read_csv('Crawling Twitter Jakarta Baru 26 - 27.csv')\n",
    "data2 = pd.read_csv('Crawling Twitter Jakarta Baru 25 - 23.csv')\n",
    "data3 = pd.read_csv('Crawling Twitter Jakarta Baru 22 - 19 setengah.csv')\n",
    "data = pd.concat([data1,data2,data3])"
   ]
  },
  {
   "cell_type": "code",
   "execution_count": 4,
   "metadata": {},
   "outputs": [],
   "source": [
    "#Memilih data bukan retweet\n",
    "tweet = data['Tweets'][data['Retweet Status']==0]"
   ]
  },
  {
   "cell_type": "code",
   "execution_count": 5,
   "metadata": {},
   "outputs": [],
   "source": [
    "#Memilih data retweet lalu drop duplicates\n",
    "retweet = data['Tweets'][data['Retweet Status']==1]\n",
    "retweet = retweet.drop_duplicates()"
   ]
  },
  {
   "cell_type": "code",
   "execution_count": 10,
   "metadata": {},
   "outputs": [],
   "source": [
    "tweet_drop = pd.concat([tweet,retweet])"
   ]
  },
  {
   "cell_type": "code",
   "execution_count": 14,
   "metadata": {},
   "outputs": [],
   "source": [
    "contoh = tweet_drop.sample(n=700)"
   ]
  },
  {
   "cell_type": "code",
   "execution_count": 15,
   "metadata": {},
   "outputs": [],
   "source": [
    "contoh.to_csv('Sample Tweet.csv')"
   ]
  }
 ],
 "metadata": {
  "language_info": {
   "codemirror_mode": {
    "name": "ipython",
    "version": 3
   },
   "file_extension": ".py",
   "mimetype": "text/x-python",
   "name": "python",
   "nbconvert_exporter": "python",
   "pygments_lexer": "ipython3",
   "version": "3.8.2-final"
  },
  "orig_nbformat": 2,
  "kernelspec": {
   "name": "python38264bit66999c5c0b024a9190820a6581c032d1",
   "display_name": "Python 3.8.2 64-bit"
  }
 },
 "nbformat": 4,
 "nbformat_minor": 2
}