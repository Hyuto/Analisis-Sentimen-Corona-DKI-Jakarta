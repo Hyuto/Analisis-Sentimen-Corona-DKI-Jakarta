{
 "cells": [
  {
   "cell_type": "markdown",
   "metadata": {},
   "source": [
    "# Analisis Sentimen Notebook\n",
    "\n",
    "Melakukan analisis sentimen pada data hasil crawling"
   ]
  },
  {
   "cell_type": "markdown",
   "metadata": {},
   "source": [
    "## 1. Import Libraries\n",
    "\n",
    "Import library yang akan digunakan"
   ]
  },
  {
   "cell_type": "code",
   "execution_count": 1,
   "metadata": {},
   "outputs": [],
   "source": [
    "import os, re, string, pickle\n",
    "\n",
    "import pandas as pd\n",
    "import numpy as np\n",
    "import matplotlib.pyplot as plt\n",
    "import seaborn as sns\n",
    "\n",
    "from datetime import datetime\n",
    "from nltk.tokenize import word_tokenize\n",
    "from sklearn.feature_extraction.text import TfidfVectorizer\n",
    "from sklearn.feature_extraction.text import CountVectorizer\n",
    "from Sastrawi.Stemmer.StemmerFactory import StemmerFactory"
   ]
  },
  {
   "cell_type": "markdown",
   "metadata": {},
   "source": [
    "## 2. Load Dataset\n",
    "\n",
    "Load data ke memmory menggunakan library pandas."
   ]
  },
  {
   "cell_type": "code",
   "execution_count": 2,
   "metadata": {},
   "outputs": [],
   "source": [
    "data1 = pd.read_csv(\"../data/Crawling Twitter Jakarta 26 - 27.csv\")\n",
    "data2 = pd.read_csv(\"../data/Crawling Twitter Jakarta 25 - 23.csv\")\n",
    "data3 = pd.read_csv(\"../data/Crawling Twitter Jakarta 22 - 19 setengah.csv\")"
   ]
  },
  {
   "cell_type": "markdown",
   "metadata": {},
   "source": [
    "**Menggabungkan data**\n",
    "\n",
    "Menggabungkan 3 dataset tersebut menjadi satu"
   ]
  },
  {
   "cell_type": "code",
   "execution_count": 3,
   "metadata": {},
   "outputs": [
    {
     "data": {
      "text/html": [
       "<div>\n",
       "<style scoped>\n",
       "    .dataframe tbody tr th:only-of-type {\n",
       "        vertical-align: middle;\n",
       "    }\n",
       "\n",
       "    .dataframe tbody tr th {\n",
       "        vertical-align: top;\n",
       "    }\n",
       "\n",
       "    .dataframe thead th {\n",
       "        text-align: right;\n",
       "    }\n",
       "</style>\n",
       "<table border=\"1\" class=\"dataframe\">\n",
       "  <thead>\n",
       "    <tr style=\"text-align: right;\">\n",
       "      <th></th>\n",
       "      <th>Tanggal</th>\n",
       "      <th>Tweets</th>\n",
       "      <th>ID</th>\n",
       "      <th>Screen Name</th>\n",
       "      <th>Banyak Retweet</th>\n",
       "      <th>Source</th>\n",
       "      <th>Retweet Status</th>\n",
       "      <th>Hashtags</th>\n",
       "    </tr>\n",
       "  </thead>\n",
       "  <tbody>\n",
       "    <tr>\n",
       "      <th>0</th>\n",
       "      <td>2020-04-27 23:59:57</td>\n",
       "      <td>b'RT @ayanggwiwid: Bayangin kalo pabrik skinca...</td>\n",
       "      <td>1254923268621955072</td>\n",
       "      <td>vinnmuth</td>\n",
       "      <td>336</td>\n",
       "      <td>Twitter for Android</td>\n",
       "      <td>1</td>\n",
       "      <td>[]</td>\n",
       "    </tr>\n",
       "    <tr>\n",
       "      <th>1</th>\n",
       "      <td>2020-04-27 23:59:57</td>\n",
       "      <td>b'RT @okezonenews: Wali Kota Palangkaraya Posi...</td>\n",
       "      <td>1254923270333231105</td>\n",
       "      <td>Nila_Widuri</td>\n",
       "      <td>4</td>\n",
       "      <td>Twitter for Android</td>\n",
       "      <td>1</td>\n",
       "      <td>['TauCepatTanpaBatas', 'BeritaTerkini', 'Berit...</td>\n",
       "    </tr>\n",
       "    <tr>\n",
       "      <th>2</th>\n",
       "      <td>2020-04-27 23:59:56</td>\n",
       "      <td>b'RT @detikcom: Pemerintah negara bagian New S...</td>\n",
       "      <td>1254923263584514048</td>\n",
       "      <td>nafisines</td>\n",
       "      <td>12</td>\n",
       "      <td>Twitter for iPhone</td>\n",
       "      <td>1</td>\n",
       "      <td>[]</td>\n",
       "    </tr>\n",
       "    <tr>\n",
       "      <th>3</th>\n",
       "      <td>2020-04-27 23:59:52</td>\n",
       "      <td>b'RT @hilmi_fpi: Proses pngmasan pkt sahur ole...</td>\n",
       "      <td>1254923248657035265</td>\n",
       "      <td>Tengsyut07</td>\n",
       "      <td>285</td>\n",
       "      <td>Twitter for Android</td>\n",
       "      <td>1</td>\n",
       "      <td>[]</td>\n",
       "    </tr>\n",
       "    <tr>\n",
       "      <th>4</th>\n",
       "      <td>2020-04-27 23:59:49</td>\n",
       "      <td>b'RT @ulil: Kepada para anggota DPR: Jangan ke...</td>\n",
       "      <td>1254923236346720257</td>\n",
       "      <td>ChumaerohLaeli</td>\n",
       "      <td>665</td>\n",
       "      <td>Twitter Web App</td>\n",
       "      <td>1</td>\n",
       "      <td>[]</td>\n",
       "    </tr>\n",
       "  </tbody>\n",
       "</table>\n",
       "</div>"
      ],
      "text/plain": [
       "               Tanggal                                             Tweets  \\\n",
       "0  2020-04-27 23:59:57  b'RT @ayanggwiwid: Bayangin kalo pabrik skinca...   \n",
       "1  2020-04-27 23:59:57  b'RT @okezonenews: Wali Kota Palangkaraya Posi...   \n",
       "2  2020-04-27 23:59:56  b'RT @detikcom: Pemerintah negara bagian New S...   \n",
       "3  2020-04-27 23:59:52  b'RT @hilmi_fpi: Proses pngmasan pkt sahur ole...   \n",
       "4  2020-04-27 23:59:49  b'RT @ulil: Kepada para anggota DPR: Jangan ke...   \n",
       "\n",
       "                    ID     Screen Name  Banyak Retweet               Source  \\\n",
       "0  1254923268621955072        vinnmuth             336  Twitter for Android   \n",
       "1  1254923270333231105     Nila_Widuri               4  Twitter for Android   \n",
       "2  1254923263584514048       nafisines              12   Twitter for iPhone   \n",
       "3  1254923248657035265      Tengsyut07             285  Twitter for Android   \n",
       "4  1254923236346720257  ChumaerohLaeli             665      Twitter Web App   \n",
       "\n",
       "   Retweet Status                                           Hashtags  \n",
       "0               1                                                 []  \n",
       "1               1  ['TauCepatTanpaBatas', 'BeritaTerkini', 'Berit...  \n",
       "2               1                                                 []  \n",
       "3               1                                                 []  \n",
       "4               1                                                 []  "
      ]
     },
     "execution_count": 3,
     "metadata": {},
     "output_type": "execute_result"
    }
   ],
   "source": [
    "# Concate data\n",
    "data = pd.concat([data1, data2, data3])\n",
    "data.head()"
   ]
  },
  {
   "cell_type": "code",
   "execution_count": 4,
   "metadata": {},
   "outputs": [],
   "source": [
    "# Cleanner\n",
    "def cleaning(text):\n",
    "    text = text[2:]\n",
    "    text = text.replace(\"\\\\n\", \" \")\n",
    "    return text"
   ]
  },
  {
   "cell_type": "code",
   "execution_count": 5,
   "metadata": {},
   "outputs": [
    {
     "data": {
      "text/plain": [
       "array([\"RT @ayanggwiwid: Bayangin kalo pabrik skincare ditutup gara gara corona, burik burik dah lu pada.'\",\n",
       "       \"RT @okezonenews: Wali Kota Palangkaraya Positif Terjangkit Virus Corona   #TauCepatTanpaBatas #BeritaTerkini #BeritaDaerah . https://t.co/z\\\\xe2\\\\x80\\\\xa6'\",\n",
       "       \"RT @detikcom: Pemerintah negara bagian New South Wales, Australia memindahkan ribuan warga tunawisma di negara bagiannya untuk tinggal di h\\\\xe2\\\\x80\\\\xa6'\",\n",
       "       ...,\n",
       "       \"RT @hsuf: Jika Indonesia ternyata berhasil melalui masa wabah ini dengan sukses, minim korban - #seperti dengan berbagai panduan dari @Kawa\\\\xe2\\\\x80\\\\xa6'\",\n",
       "       \"RT @Aryprasetyo85: Semoga pemda nya gk tutup mata dan membantu keluarga ini  Memprihatinkan!! Satu Keluarga Kelaparan Tak Makan 2 Hari Kare\\\\xe2\\\\x80\\\\xa6'\",\n",
       "       \"RT @Fahrihamzah: Politic &amp; Decision Making Penanganan COVID-19 https://t.co/UrFWlFXWHz'\"],\n",
       "      dtype=object)"
      ]
     },
     "execution_count": 5,
     "metadata": {},
     "output_type": "execute_result"
    }
   ],
   "source": [
    "data[\"Tweets\"] = data[\"Tweets\"].apply(lambda x: cleaning(x))\n",
    "data[\"Tweets\"].values"
   ]
  },
  {
   "cell_type": "markdown",
   "metadata": {},
   "source": [
    "## 2. Data Preprocessing\n",
    "\n",
    "Preprocess data text sebelum diolah"
   ]
  },
  {
   "cell_type": "markdown",
   "metadata": {},
   "source": [
    "## 2.1. Stemmer\n",
    "\n",
    "> Stemming merupakan suatu proses untuk menemukan kata dasar dari sebuah kata. Dengan menghilangkan semua imbuhan (affixes) baik yang terdiri dari awalan (prefixes), sisipan (infixes), akhiran (suffixes) dan confixes (kombinasi dari awalan dan akhiran) pada kata turunan. Stemming digunakan untuk mengganti bentuk dari suatu kata menjadi kata dasar dari kata tersebut yang sesuai dengan struktur morfologi Bahasa Indonesia yang baik dan benar.\n",
    "\n",
    "Membuat Stemmer menggunakan sastrawi."
   ]
  },
  {
   "cell_type": "code",
   "execution_count": 6,
   "metadata": {},
   "outputs": [],
   "source": [
    "# Create Sastrawi stemmer\n",
    "stemmer = StemmerFactory().create_stemmer()"
   ]
  },
  {
   "cell_type": "markdown",
   "metadata": {},
   "source": [
    "## 2.2. Stopwords\n",
    "\n",
    "> Stop words adalah kata umum (common words) yang biasanya muncul dalam jumlah besar dan dianggap tidak memiliki makna.\n",
    "\n",
    "Akan dibuat list yang berisi stopword yang ada pada bahasa indonesia."
   ]
  },
  {
   "cell_type": "code",
   "execution_count": 7,
   "metadata": {},
   "outputs": [],
   "source": [
    "# Create Stopword\n",
    "with open(\"../kamus/Stopword.txt\", \"r\") as f:\n",
    "    stop_words = f.readline()\n",
    "    stop_words = stop_words.split()"
   ]
  },
  {
   "cell_type": "markdown",
   "metadata": {},
   "source": [
    "## 2.3. Preprocessing function\n",
    "\n",
    "Akan dilakukan beberapa tahap untuk preprocess data text agar siap digunakan, yaitu:\n",
    "\n",
    "1. Normalisasi karakter string menjadi huruf kecil\n",
    "2. Menghapus emoji\n",
    "3. Menghapus setiap url\n",
    "4. Menghapus tagging\n",
    "5. Menghapus whitespace\n",
    "6. Menghapus simbol '#' pada hashtag\n",
    "7. Menghapus angka\n",
    "8. Mengganti tanda baca menjadi '<spasi>'"
   ]
  },
  {
   "cell_type": "code",
   "execution_count": 8,
   "metadata": {},
   "outputs": [],
   "source": [
    "# Preprocessor\n",
    "def preprocessor(text):\n",
    "    # Convert to lower case\n",
    "    text = text.lower()\n",
    "    # Remove additional code\n",
    "    text = text.replace(\"\\\\xe2\\\\x80\\\\xa6\", \"\")\n",
    "    # Convert www.* or https?://* to URL\n",
    "    text = re.sub(\"((www\\.[^\\s]+)|(https?://[^\\s]+))\", \"\", text)\n",
    "    # Convert @username to AT_USER\n",
    "    text = re.sub(\"@[^\\s]+\", \"\", text)\n",
    "    # Remove additional white spaces\n",
    "    text = re.sub(\"[\\s]+\", \" \", text)\n",
    "    # Replace #word with word\n",
    "    text = re.sub(r\"#([^\\s]+)\", r\"\\1\", text)\n",
    "    # Menghapus angka dari teks\n",
    "    text = re.sub(r\"\\d+\", \"\", text)\n",
    "    # Menganti tanda baca dengan spasi\n",
    "    text = text.translate(str.maketrans(string.punctuation, \" \" * len(string.punctuation)))\n",
    "    return text"
   ]
  },
  {
   "cell_type": "code",
   "execution_count": 9,
   "metadata": {},
   "outputs": [
    {
     "data": {
      "text/plain": [
       "array(['rt bayangin kalo pabrik skincare ditutup gara gara corona  burik burik dah lu pada  ',\n",
       "       'rt wali kota palangkaraya positif terjangkit virus corona taucepattanpabatas beritaterkini beritadaerah   ',\n",
       "       'rt pemerintah negara bagian new south wales  australia memindahkan ribuan warga tunawisma di negara bagiannya untuk tinggal di h ',\n",
       "       ...,\n",
       "       'rt jika indonesia ternyata berhasil melalui masa wabah ini dengan sukses  minim korban   seperti dengan berbagai panduan dari ',\n",
       "       'rt semoga pemda nya gk tutup mata dan membantu keluarga ini memprihatinkan   satu keluarga kelaparan tak makan  hari kare ',\n",
       "       'rt politic  amp  decision making penanganan covid  '],\n",
       "      dtype=object)"
      ]
     },
     "execution_count": 9,
     "metadata": {},
     "output_type": "execute_result"
    }
   ],
   "source": [
    "data[\"Tweets\"] = data[\"Tweets\"].apply(lambda x: preprocessor(x))\n",
    "data[\"Tweets\"].values"
   ]
  },
  {
   "cell_type": "markdown",
   "metadata": {},
   "source": [
    "## 2.4. Tokenizer\n",
    "\n",
    "Membuat custom tokenizer menggunakan `word_tokenize` dari library `nltk` lalu memfilter token tersebut."
   ]
  },
  {
   "cell_type": "code",
   "execution_count": 10,
   "metadata": {},
   "outputs": [],
   "source": [
    "# Tokenizer\n",
    "def tokenizer(text):\n",
    "    words = word_tokenize(text)\n",
    "    tokens = []\n",
    "    for w in words:\n",
    "        # add tokens\n",
    "        if len(w) > 3 and w not in stop_words:\n",
    "            w = stemmer.stem(w)\n",
    "            tokens.append(w.lower())\n",
    "    return \" \".join(tokens)"
   ]
  },
  {
   "cell_type": "code",
   "execution_count": 11,
   "metadata": {},
   "outputs": [
    {
     "data": {
      "text/plain": [
       "array(['bayangin kalo pabrik skincare tutup gara gara corona burik burik',\n",
       "       'wali kota palangkaraya positif jangkit virus corona taucepattanpabatas beritaterkini beritadaerah',\n",
       "       'perintah negara south wales australia pindah ribu tunawisma negara bagi tinggal',\n",
       "       ..., 'indonesia hasil wabah sukses minim korban pandu',\n",
       "       'moga pemda tutup mata bantu keluarga prihatin keluarga lapar makan kare',\n",
       "       'politic decision making tangan covid'], dtype=object)"
      ]
     },
     "execution_count": 11,
     "metadata": {},
     "output_type": "execute_result"
    }
   ],
   "source": [
    "# Untuk menghemat waktu running dilakukan loading tweet yang sudah\n",
    "# dibersihkan sebelumnya\n",
    "with open(\"../data/cleaned-tweets.txt\") as reader:\n",
    "    data[\"Tweets\"] = reader.read().split(\"\\n\")\n",
    "\n",
    "# Uncomment dan run kode di bawah jika mengganti atau menambahkan\n",
    "# metode preprocess data text, proses running membutuhkan waktu\n",
    "# yang cukup lama (sekitar 1 jam)\n",
    "# data['Tweets'] = data['Tweets'].apply(lambda x : tokenizer(x))\n",
    "\n",
    "data[\"Tweets\"].values"
   ]
  },
  {
   "cell_type": "markdown",
   "metadata": {},
   "source": [
    "## 2.5. Text Vectorization\n",
    "\n",
    "Text vectorization adalah cara melakukan encode data text menjadi numerik. Berikut akan dilakukan vectorization menggunakan `TfidfVectorizer` dari library `scikit-learn`. Untuk mempelajari text vectorization lebih lanjut dapat membaca artikel [berikut](https://machinelearningmastery.com/prepare-text-data-machine-learning-scikit-learn/)"
   ]
  },
  {
   "cell_type": "code",
   "execution_count": 12,
   "metadata": {},
   "outputs": [],
   "source": [
    "# Defining Vectorizer object\n",
    "vectorizer_tfidf = TfidfVectorizer(max_features=1000)\n",
    "\n",
    "# Load saved vectorizer\n",
    "# vectorizer_tfidf = pickle.load(open('../model/vectorizer/vectorizer_tfidf.pickle', 'rb'))"
   ]
  },
  {
   "cell_type": "markdown",
   "metadata": {},
   "source": [
    "**fit & transform**\n",
    "\n",
    "Ubah data text menjadi encoded matrix"
   ]
  },
  {
   "cell_type": "code",
   "execution_count": 13,
   "metadata": {},
   "outputs": [
    {
     "data": {
      "text/plain": [
       "<250279x1000 sparse matrix of type '<class 'numpy.float64'>'\n",
       "\twith 1827849 stored elements in Compressed Sparse Row format>"
      ]
     },
     "execution_count": 13,
     "metadata": {},
     "output_type": "execute_result"
    }
   ],
   "source": [
    "# fit and transform text data\n",
    "word_tfidf = vectorizer_tfidf.fit_transform(data[\"Tweets\"].values)\n",
    "word_tfidf"
   ]
  },
  {
   "cell_type": "markdown",
   "metadata": {},
   "source": [
    "Mengambil nama fitur / kata - kata yang terdapat dalam data dan melihat dimensi data setelah dilakukan vectorization menggunakan `TfidfVectorizer`"
   ]
  },
  {
   "cell_type": "code",
   "execution_count": 14,
   "metadata": {},
   "outputs": [
    {
     "name": "stdout",
     "output_type": "stream",
     "text": [
      "Jumlah artikel = 250279\n",
      "Jumlah fitur   = 1000\n"
     ]
    }
   ],
   "source": [
    "# Nama fitur\n",
    "nama_fitur = vectorizer_tfidf.get_feature_names_out()\n",
    "\n",
    "# Dimensi data\n",
    "dimensions = word_tfidf.get_shape()\n",
    "print(f\"Jumlah artikel = {dimensions[0]}\")\n",
    "print(f\"Jumlah fitur   = {dimensions[1]}\")"
   ]
  },
  {
   "cell_type": "markdown",
   "metadata": {},
   "source": [
    "## 2.6. Kata dengan bobot TF-IDF tertinggi\n",
    "\n",
    "Melihat kata - kata dengan bobot TF-IDF tertinggi"
   ]
  },
  {
   "cell_type": "code",
   "execution_count": 15,
   "metadata": {},
   "outputs": [
    {
     "data": {
      "text/html": [
       "<div>\n",
       "<style scoped>\n",
       "    .dataframe tbody tr th:only-of-type {\n",
       "        vertical-align: middle;\n",
       "    }\n",
       "\n",
       "    .dataframe tbody tr th {\n",
       "        vertical-align: top;\n",
       "    }\n",
       "\n",
       "    .dataframe thead th {\n",
       "        text-align: right;\n",
       "    }\n",
       "</style>\n",
       "<table border=\"1\" class=\"dataframe\">\n",
       "  <thead>\n",
       "    <tr style=\"text-align: right;\">\n",
       "      <th></th>\n",
       "      <th>Kata</th>\n",
       "      <th>Banyak</th>\n",
       "    </tr>\n",
       "  </thead>\n",
       "  <tbody>\n",
       "    <tr>\n",
       "      <th>950</th>\n",
       "      <td>ustadz</td>\n",
       "      <td>20658</td>\n",
       "    </tr>\n",
       "    <tr>\n",
       "      <th>245</th>\n",
       "      <td>gadis</td>\n",
       "      <td>5533</td>\n",
       "    </tr>\n",
       "    <tr>\n",
       "      <th>653</th>\n",
       "      <td>plasma</td>\n",
       "      <td>5525</td>\n",
       "    </tr>\n",
       "    <tr>\n",
       "      <th>214</th>\n",
       "      <td>dude</td>\n",
       "      <td>4617</td>\n",
       "    </tr>\n",
       "    <tr>\n",
       "      <th>498</th>\n",
       "      <td>lupa</td>\n",
       "      <td>4347</td>\n",
       "    </tr>\n",
       "    <tr>\n",
       "      <th>892</th>\n",
       "      <td>thread</td>\n",
       "      <td>3288</td>\n",
       "    </tr>\n",
       "    <tr>\n",
       "      <th>104</th>\n",
       "      <td>bepuasa</td>\n",
       "      <td>2589</td>\n",
       "    </tr>\n",
       "    <tr>\n",
       "      <th>473</th>\n",
       "      <td>larisin</td>\n",
       "      <td>2316</td>\n",
       "    </tr>\n",
       "    <tr>\n",
       "      <th>346</th>\n",
       "      <td>jagajar</td>\n",
       "      <td>2193</td>\n",
       "    </tr>\n",
       "    <tr>\n",
       "      <th>904</th>\n",
       "      <td>topang</td>\n",
       "      <td>2039</td>\n",
       "    </tr>\n",
       "    <tr>\n",
       "      <th>855</th>\n",
       "      <td>takut</td>\n",
       "      <td>1754</td>\n",
       "    </tr>\n",
       "    <tr>\n",
       "      <th>131</th>\n",
       "      <td>bucin</td>\n",
       "      <td>1504</td>\n",
       "    </tr>\n",
       "    <tr>\n",
       "      <th>901</th>\n",
       "      <td>tiru</td>\n",
       "      <td>1451</td>\n",
       "    </tr>\n",
       "    <tr>\n",
       "      <th>869</th>\n",
       "      <td>taruna</td>\n",
       "      <td>1416</td>\n",
       "    </tr>\n",
       "    <tr>\n",
       "      <th>877</th>\n",
       "      <td>teman</td>\n",
       "      <td>1214</td>\n",
       "    </tr>\n",
       "    <tr>\n",
       "      <th>164</th>\n",
       "      <td>corona</td>\n",
       "      <td>1210</td>\n",
       "    </tr>\n",
       "    <tr>\n",
       "      <th>979</th>\n",
       "      <td>yasonna</td>\n",
       "      <td>1203</td>\n",
       "    </tr>\n",
       "    <tr>\n",
       "      <th>394</th>\n",
       "      <td>kasih</td>\n",
       "      <td>1196</td>\n",
       "    </tr>\n",
       "    <tr>\n",
       "      <th>53</th>\n",
       "      <td>aspek</td>\n",
       "      <td>1131</td>\n",
       "    </tr>\n",
       "    <tr>\n",
       "      <th>925</th>\n",
       "      <td>tuntut</td>\n",
       "      <td>1095</td>\n",
       "    </tr>\n",
       "  </tbody>\n",
       "</table>\n",
       "</div>"
      ],
      "text/plain": [
       "        Kata  Banyak\n",
       "950   ustadz   20658\n",
       "245    gadis    5533\n",
       "653   plasma    5525\n",
       "214     dude    4617\n",
       "498     lupa    4347\n",
       "892   thread    3288\n",
       "104  bepuasa    2589\n",
       "473  larisin    2316\n",
       "346  jagajar    2193\n",
       "904   topang    2039\n",
       "855    takut    1754\n",
       "131    bucin    1504\n",
       "901     tiru    1451\n",
       "869   taruna    1416\n",
       "877    teman    1214\n",
       "164   corona    1210\n",
       "979  yasonna    1203\n",
       "394    kasih    1196\n",
       "53     aspek    1131\n",
       "925   tuntut    1095"
      ]
     },
     "execution_count": 15,
     "metadata": {},
     "output_type": "execute_result"
    }
   ],
   "source": [
    "content1, content2 = [], []\n",
    "\n",
    "for n in range(dimensions[0]):\n",
    "    # Convert sparse matrix row by row\n",
    "    row = word_tfidf.getrow(n).toarray()[0].ravel()\n",
    "    # Get top values and its indexes\n",
    "    top_ten_indices = row.argsort()[-1]\n",
    "    top_ten_values = row[row.argsort()[-1]]\n",
    "    # Identify the highest TFIDF value and word #\n",
    "    highestTFIDFword = nama_fitur[top_ten_indices]\n",
    "    highestTFIDFvalue = top_ten_values\n",
    "    top1word = {\n",
    "        \"nomor artikel\": n + 1,\n",
    "        \"nilai TFIDF\": highestTFIDFvalue,\n",
    "        \"top word\": highestTFIDFword,\n",
    "    }\n",
    "    content1.append(top1word)\n",
    "    content2.append(highestTFIDFword)\n",
    "\n",
    "# Hitung Frekuiensi kata dengan bobot terbesar\n",
    "content2 = np.asarray(content2)\n",
    "words, n = np.unique(content2, return_counts=True)\n",
    "\n",
    "# Convert to DataFrame lalu urutkan secara descending\n",
    "# lalu pilih 20 kata dengan frekuensi terbesar\n",
    "words_data = (\n",
    "    pd.DataFrame({\"Kata\": words, \"Banyak\": n}).sort_values(by=\"Banyak\", ascending=False).head(20)\n",
    ")\n",
    "words_data"
   ]
  },
  {
   "cell_type": "markdown",
   "metadata": {},
   "source": [
    "**Visualisasi hasil**"
   ]
  },
  {
   "cell_type": "code",
   "execution_count": 16,
   "metadata": {},
   "outputs": [
    {
     "data": {
      "image/png": "[encoded data removed]",
      "text/plain": [
       "<Figure size 720x720 with 1 Axes>"
      ]
     },
     "metadata": {
      "needs_background": "light"
     },
     "output_type": "display_data"
    }
   ],
   "source": [
    "# Plotting Barplot\n",
    "plt.figure(figsize=(10, 10))\n",
    "sns.barplot(x=words_data[\"Kata\"], y=words_data[\"Banyak\"])\n",
    "for i, v in enumerate(words_data[\"Banyak\"].tolist()):\n",
    "    plt.text(i - len(str(v)) / 10 - 0.05, v + 50, str(v), fontsize=10)\n",
    "plt.title(\"Kata Dengan Bobot Terbesar\", fontsize=20)\n",
    "plt.xticks(rotation=90)\n",
    "plt.xlabel(\"Kata\", fontsize=16)\n",
    "plt.ylabel(\"Frekuensi\", fontsize=16)\n",
    "plt.show()"
   ]
  },
  {
   "cell_type": "markdown",
   "metadata": {},
   "source": [
    "## 3. Pemodelan\n",
    "\n",
    "Akan dilakukan pemodelan menggunakan beberapa metode machine learning seperti:\n",
    "\n",
    "1. Decision Tree\n",
    "2. Logistic Regression\n",
    "3. Random Forest Classifier\n",
    "4. Support Vector Machine\n",
    "\n",
    "Lalu performa model - model tersebut akan dibandingkan dengan melihat metric `accuracy` untuk dipilih sebagai model terbaik."
   ]
  },
  {
   "cell_type": "markdown",
   "metadata": {},
   "source": [
    "## 3.1. Loading Sample Data\n",
    "\n",
    "Karena untuk melakukan pemodelan dengan motode - metode yang telah di jabarkan memerlukan label (`y`) sedangkan data hasil crawling tidak memiliki label (`y`). Maka perlu dilakukan labeling secara manual dengan ketentuan:\n",
    "\n",
    "* `0` adalah label untuk tweet yang bersentimen `negatif`\n",
    "* `1` adalah label untuk tweet yang bersentimen `netral`\n",
    "* `2` adalah label untuk tweet yang bersentimen `positif`\n",
    "\n",
    "Karena jika menggunakan seluruh data yang di crawl untuk dilakukan labelng secara manual membutuhkan waktu dan tenaga yang besar (karena jumlah datanya sangat banyak), maka perlu dilakukan sampling terhadap dataset untuk mengambil sebagian data. Pada notebook ini akan digunakan dataset hasil sampling data dan telah dilakukan labeling secara manual oleh penulis, untuk proses samplingnya dapat dilihat pada notebook `Sampling.ipynb`"
   ]
  },
  {
   "cell_type": "code",
   "execution_count": 17,
   "metadata": {},
   "outputs": [
    {
     "data": {
      "text/html": [
       "<div>\n",
       "<style scoped>\n",
       "    .dataframe tbody tr th:only-of-type {\n",
       "        vertical-align: middle;\n",
       "    }\n",
       "\n",
       "    .dataframe tbody tr th {\n",
       "        vertical-align: top;\n",
       "    }\n",
       "\n",
       "    .dataframe thead th {\n",
       "        text-align: right;\n",
       "    }\n",
       "</style>\n",
       "<table border=\"1\" class=\"dataframe\">\n",
       "  <thead>\n",
       "    <tr style=\"text-align: right;\">\n",
       "      <th></th>\n",
       "      <th>Index</th>\n",
       "      <th>Tweets</th>\n",
       "      <th>Sentiment</th>\n",
       "    </tr>\n",
       "  </thead>\n",
       "  <tbody>\n",
       "    <tr>\n",
       "      <th>0</th>\n",
       "      <td>51365</td>\n",
       "      <td>b'Salut! Polri mendapat apresiasi dari DPR RI ...</td>\n",
       "      <td>2</td>\n",
       "    </tr>\n",
       "    <tr>\n",
       "      <th>1</th>\n",
       "      <td>94963</td>\n",
       "      <td>b'Sebelum booming corona biasanya ke pasar non...</td>\n",
       "      <td>0</td>\n",
       "    </tr>\n",
       "    <tr>\n",
       "      <th>2</th>\n",
       "      <td>16832</td>\n",
       "      <td>b'Covid 19 plus 30 ribu narapidana https://t.c...</td>\n",
       "      <td>0</td>\n",
       "    </tr>\n",
       "    <tr>\n",
       "      <th>3</th>\n",
       "      <td>29905</td>\n",
       "      <td>b'@faruqhmd Lu corona ora, muntaber iya.'</td>\n",
       "      <td>0</td>\n",
       "    </tr>\n",
       "    <tr>\n",
       "      <th>4</th>\n",
       "      <td>25279</td>\n",
       "      <td>b'3. Jenazah belum dapat dipastikan apakah pos...</td>\n",
       "      <td>1</td>\n",
       "    </tr>\n",
       "  </tbody>\n",
       "</table>\n",
       "</div>"
      ],
      "text/plain": [
       "   Index                                             Tweets  Sentiment\n",
       "0  51365  b'Salut! Polri mendapat apresiasi dari DPR RI ...          2\n",
       "1  94963  b'Sebelum booming corona biasanya ke pasar non...          0\n",
       "2  16832  b'Covid 19 plus 30 ribu narapidana https://t.c...          0\n",
       "3  29905          b'@faruqhmd Lu corona ora, muntaber iya.'          0\n",
       "4  25279  b'3. Jenazah belum dapat dipastikan apakah pos...          1"
      ]
     },
     "execution_count": 17,
     "metadata": {},
     "output_type": "execute_result"
    }
   ],
   "source": [
    "# Loading Sample tweet sentiment\n",
    "sample = pd.read_csv(\"../data/Sample Tweet.csv\")\n",
    "sample.head()"
   ]
  },
  {
   "cell_type": "markdown",
   "metadata": {},
   "source": [
    "## 3.2. Preprocess Sampling dataset\n",
    "\n",
    "Encode kolom `Tweets` pada sampling dataset dengan menggunakan `TfidfVectorizer` yang sebelumnya. Lalu extract `x` dan `y` dari dataframe"
   ]
  },
  {
   "cell_type": "code",
   "execution_count": 18,
   "metadata": {},
   "outputs": [
    {
     "data": {
      "text/plain": [
       "array(['salut polri apresiasi tegak hukum laku tindak kriminal pandemi covid dprriapresiasipolri',\n",
       "       'booming corona pasar nongkrong mamang mamang sunda bincang dunia empon bogor skrg atulah pasar happy pasar piknik mother children',\n",
       "       'covid plus ribu narapidana', 'corona muntaber',\n",
       "       'jenazah positif infeksi covid hasil swab proses pemulasaraan makam jenazah sesuai prosedur protap covid'],\n",
       "      dtype=object)"
      ]
     },
     "execution_count": 18,
     "metadata": {},
     "output_type": "execute_result"
    }
   ],
   "source": [
    "sample[\"Tweets\"] = sample[\"Tweets\"].apply(lambda x: cleaning(x))\n",
    "sample[\"Tweets\"] = sample[\"Tweets\"].apply(lambda x: preprocessor(x))\n",
    "sample[\"Tweets\"] = sample[\"Tweets\"].apply(lambda x: tokenizer(x))\n",
    "sample[\"Tweets\"].values[:5]"
   ]
  },
  {
   "cell_type": "code",
   "execution_count": 19,
   "metadata": {},
   "outputs": [],
   "source": [
    "x = vectorizer_tfidf.transform(sample[\"Tweets\"].values)\n",
    "y = sample[\"Sentiment\"].values"
   ]
  },
  {
   "cell_type": "markdown",
   "metadata": {},
   "source": [
    "**Splitting Data**\n",
    "\n",
    "Membagi data menjadi data `train` dan data `valid` dengan perbandingan `80:20`"
   ]
  },
  {
   "cell_type": "code",
   "execution_count": 20,
   "metadata": {},
   "outputs": [],
   "source": [
    "from sklearn.model_selection import train_test_split\n",
    "\n",
    "x_train, x_valid, y_train, y_valid = train_test_split(x, y, test_size=0.2, random_state=2020)"
   ]
  },
  {
   "cell_type": "markdown",
   "metadata": {},
   "source": [
    "## 3.3. Fitting Model\n",
    "\n",
    "Akan dilakukan fitting model - model terhadap data `train` lalu model - model tersebut akan diukur keakuratannya dengan menghitung akurasinya pada data `valid`"
   ]
  },
  {
   "cell_type": "code",
   "execution_count": 21,
   "metadata": {},
   "outputs": [
    {
     "name": "stdout",
     "output_type": "stream",
     "text": [
      "Akurasi dari Decision Tree Classifier :  0.5071428571428571\n",
      "Akurasi dari Logistic Regression :  0.6071428571428571\n",
      "Akurasi dari Random Forest Classifier :  0.5571428571428572\n",
      "Akurasi dari SVM :  0.6142857142857143\n"
     ]
    }
   ],
   "source": [
    "# Modelling\n",
    "from sklearn.linear_model import LogisticRegression\n",
    "from sklearn.ensemble import RandomForestClassifier\n",
    "from sklearn.tree import DecisionTreeClassifier\n",
    "from sklearn.svm import SVC\n",
    "from sklearn import metrics\n",
    "\n",
    "classifiers = {\n",
    "    \"Decision Tree Classifier\": DecisionTreeClassifier(random_state=2020),\n",
    "    \"Logistic Regression\": LogisticRegression(random_state=2020),\n",
    "    \"Random Forest Classifier\": RandomForestClassifier(random_state=2020),\n",
    "    \"SVM\": SVC(kernel=\"linear\", probability=True, random_state=2020),\n",
    "}\n",
    "\n",
    "for name in classifiers.keys():\n",
    "    classifiers[name].fit(x_train, y_train)\n",
    "    y_pred = classifiers[name].predict(x_valid)\n",
    "    print(f\"Akurasi dari {name} : \", metrics.accuracy_score(y_valid, y_pred))"
   ]
  },
  {
   "cell_type": "markdown",
   "metadata": {},
   "source": [
    "**Insight**\n",
    "\n",
    "Dapat dilihat bahwa `SVM` memiliki performa yang jauh lebih baik dari model - model yang lain. Maka dari itu model `SVM` akan digunakan untuk memprediksi keseluruhan data"
   ]
  },
  {
   "cell_type": "markdown",
   "metadata": {},
   "source": [
    "## 4. Prediction (Peramalan)\n",
    "\n",
    "Akan dilakukan peramalan terhadap keseluruhan data menggunakan medel `SVM` yang telah di fit sebelumnya"
   ]
  },
  {
   "cell_type": "code",
   "execution_count": 22,
   "metadata": {},
   "outputs": [
    {
     "data": {
      "text/html": [
       "<div>\n",
       "<style scoped>\n",
       "    .dataframe tbody tr th:only-of-type {\n",
       "        vertical-align: middle;\n",
       "    }\n",
       "\n",
       "    .dataframe tbody tr th {\n",
       "        vertical-align: top;\n",
       "    }\n",
       "\n",
       "    .dataframe thead th {\n",
       "        text-align: right;\n",
       "    }\n",
       "</style>\n",
       "<table border=\"1\" class=\"dataframe\">\n",
       "  <thead>\n",
       "    <tr style=\"text-align: right;\">\n",
       "      <th></th>\n",
       "      <th>Tanggal</th>\n",
       "      <th>Tweets</th>\n",
       "      <th>ID</th>\n",
       "      <th>Screen Name</th>\n",
       "      <th>Banyak Retweet</th>\n",
       "      <th>Source</th>\n",
       "      <th>Retweet Status</th>\n",
       "      <th>Hashtags</th>\n",
       "      <th>prediction</th>\n",
       "    </tr>\n",
       "  </thead>\n",
       "  <tbody>\n",
       "    <tr>\n",
       "      <th>0</th>\n",
       "      <td>2020-04-27 23:59:57</td>\n",
       "      <td>bayangin kalo pabrik skincare tutup gara gara ...</td>\n",
       "      <td>1254923268621955072</td>\n",
       "      <td>vinnmuth</td>\n",
       "      <td>336</td>\n",
       "      <td>Twitter for Android</td>\n",
       "      <td>1</td>\n",
       "      <td>[]</td>\n",
       "      <td>1</td>\n",
       "    </tr>\n",
       "    <tr>\n",
       "      <th>1</th>\n",
       "      <td>2020-04-27 23:59:57</td>\n",
       "      <td>wali kota palangkaraya positif jangkit virus c...</td>\n",
       "      <td>1254923270333231105</td>\n",
       "      <td>Nila_Widuri</td>\n",
       "      <td>4</td>\n",
       "      <td>Twitter for Android</td>\n",
       "      <td>1</td>\n",
       "      <td>['TauCepatTanpaBatas', 'BeritaTerkini', 'Berit...</td>\n",
       "      <td>1</td>\n",
       "    </tr>\n",
       "    <tr>\n",
       "      <th>2</th>\n",
       "      <td>2020-04-27 23:59:56</td>\n",
       "      <td>perintah negara south wales australia pindah r...</td>\n",
       "      <td>1254923263584514048</td>\n",
       "      <td>nafisines</td>\n",
       "      <td>12</td>\n",
       "      <td>Twitter for iPhone</td>\n",
       "      <td>1</td>\n",
       "      <td>[]</td>\n",
       "      <td>1</td>\n",
       "    </tr>\n",
       "    <tr>\n",
       "      <th>3</th>\n",
       "      <td>2020-04-27 23:59:52</td>\n",
       "      <td>proses pngmasan sahur msak taqi hilmi menu sah...</td>\n",
       "      <td>1254923248657035265</td>\n",
       "      <td>Tengsyut07</td>\n",
       "      <td>285</td>\n",
       "      <td>Twitter for Android</td>\n",
       "      <td>1</td>\n",
       "      <td>[]</td>\n",
       "      <td>2</td>\n",
       "    </tr>\n",
       "    <tr>\n",
       "      <th>4</th>\n",
       "      <td>2020-04-27 23:59:49</td>\n",
       "      <td>anggota dapil pliiiiiiiiissss bantu jakarta daer</td>\n",
       "      <td>1254923236346720257</td>\n",
       "      <td>ChumaerohLaeli</td>\n",
       "      <td>665</td>\n",
       "      <td>Twitter Web App</td>\n",
       "      <td>1</td>\n",
       "      <td>[]</td>\n",
       "      <td>2</td>\n",
       "    </tr>\n",
       "  </tbody>\n",
       "</table>\n",
       "</div>"
      ],
      "text/plain": [
       "               Tanggal                                             Tweets  \\\n",
       "0  2020-04-27 23:59:57  bayangin kalo pabrik skincare tutup gara gara ...   \n",
       "1  2020-04-27 23:59:57  wali kota palangkaraya positif jangkit virus c...   \n",
       "2  2020-04-27 23:59:56  perintah negara south wales australia pindah r...   \n",
       "3  2020-04-27 23:59:52  proses pngmasan sahur msak taqi hilmi menu sah...   \n",
       "4  2020-04-27 23:59:49   anggota dapil pliiiiiiiiissss bantu jakarta daer   \n",
       "\n",
       "                    ID     Screen Name  Banyak Retweet               Source  \\\n",
       "0  1254923268621955072        vinnmuth             336  Twitter for Android   \n",
       "1  1254923270333231105     Nila_Widuri               4  Twitter for Android   \n",
       "2  1254923263584514048       nafisines              12   Twitter for iPhone   \n",
       "3  1254923248657035265      Tengsyut07             285  Twitter for Android   \n",
       "4  1254923236346720257  ChumaerohLaeli             665      Twitter Web App   \n",
       "\n",
       "   Retweet Status                                           Hashtags  \\\n",
       "0               1                                                 []   \n",
       "1               1  ['TauCepatTanpaBatas', 'BeritaTerkini', 'Berit...   \n",
       "2               1                                                 []   \n",
       "3               1                                                 []   \n",
       "4               1                                                 []   \n",
       "\n",
       "   prediction  \n",
       "0           1  \n",
       "1           1  \n",
       "2           1  \n",
       "3           2  \n",
       "4           2  "
      ]
     },
     "execution_count": 22,
     "metadata": {},
     "output_type": "execute_result"
    }
   ],
   "source": [
    "data[\"prediction\"] = classifiers[\"SVM\"].predict(word_tfidf)\n",
    "data.head()"
   ]
  },
  {
   "cell_type": "markdown",
   "metadata": {},
   "source": [
    "## 5. Visualization\n",
    "\n",
    "Visualisasi sentimen hasil predisian model `SVM`"
   ]
  },
  {
   "cell_type": "markdown",
   "metadata": {},
   "source": [
    "## 5.1. Perbandingan Sentimen\n",
    "\n",
    "Perbandingan jumlah antar sentimen yang ada"
   ]
  },
  {
   "cell_type": "code",
   "execution_count": 23,
   "metadata": {},
   "outputs": [
    {
     "data": {
      "image/png": "[encoded data removed]",
      "text/plain": [
       "<Figure size 576x576 with 1 Axes>"
      ]
     },
     "metadata": {},
     "output_type": "display_data"
    }
   ],
   "source": [
    "# Plotting Pie\n",
    "def pct_pie(pct, allvals):\n",
    "    absolute = int(pct / 100.0 * np.sum(allvals))\n",
    "    return \"{:.1f}%\\n{:d}\".format(pct, absolute)\n",
    "\n",
    "\n",
    "sentimen = data[\"Tweets\"].groupby(data[\"prediction\"]).count().values\n",
    "\n",
    "plt.figure(figsize=(8, 8))\n",
    "plt.pie(\n",
    "    sentimen,\n",
    "    explode=(0, 0, 0.1),\n",
    "    labels=[\"Negatif\", \"Netral\", \"Positif\"],\n",
    "    shadow=True,\n",
    "    autopct=lambda pct: pct_pie(pct, sentimen),\n",
    "    startangle=90,\n",
    ")\n",
    "plt.title(\"Perbandingan Sentiment\", fontsize=18)\n",
    "plt.axis(\"equal\")\n",
    "plt.legend(fontsize=11)\n",
    "plt.show()"
   ]
  },
  {
   "cell_type": "markdown",
   "metadata": {},
   "source": [
    "**Insight**\n",
    "\n",
    "Dapat dilihat dari pie chart di atas bahwa pada rentang 19 - 27 April 2020 jumlah tweet masyarakat DKI Jakarta dengan topik COVID-19 yang bermuatan positif jauh lebih banyak dari tweet yang bermuatan negatif sedangkan tweet yang bermuatan netral jauh melampaui keduanya."
   ]
  },
  {
   "cell_type": "markdown",
   "metadata": {},
   "source": [
    "## 5.2. Tweet perhari Berdasarkan Sentimen\n",
    "\n",
    "Akan dilihat perbandingan tweet perharinya dari tanggal 19 - 27 April 2020 berdasarkan sentimennya"
   ]
  },
  {
   "cell_type": "code",
   "execution_count": 24,
   "metadata": {},
   "outputs": [],
   "source": [
    "# Melihat banyak Tweet perhari berdasarkan sentiment\n",
    "data[\"Tanggal\"] = pd.to_datetime(data[\"Tanggal\"])\n",
    "tph = data[\"Tweets\"].groupby([data[\"Tanggal\"].dt.date, data[\"prediction\"]]).count()\n",
    "frek = tph.values\n",
    "\n",
    "# To Data Frame\n",
    "tanggal = [i for i, j in tph.index.tolist()]\n",
    "senti = [j for i, j in tph.index.tolist()]\n",
    "sent = pd.DataFrame({\"Tanggal\": tanggal, \"Sentiment\": senti, \"Frekuensi\": frek})"
   ]
  },
  {
   "cell_type": "code",
   "execution_count": 25,
   "metadata": {},
   "outputs": [
    {
     "data": {
      "image/png": "[encoded data removed]",
      "text/plain": [
       "<Figure size 720x720 with 1 Axes>"
      ]
     },
     "metadata": {
      "needs_background": "light"
     },
     "output_type": "display_data"
    }
   ],
   "source": [
    "# Plotting line\n",
    "plt.figure(figsize=(10, 10))\n",
    "sns.lineplot(x=\"Tanggal\", y=\"Frekuensi\", hue=\"Sentiment\", data=sent)\n",
    "plt.title(\"Banyak Tweet per Hari\", fontsize=20)\n",
    "plt.xticks(rotation=45)\n",
    "plt.xlabel(\"Tanggal\", fontsize=16)\n",
    "plt.ylabel(\"Frekuensi\", fontsize=16)\n",
    "plt.legend([\"Negatif\", \"Netral\", \"Positif\"])\n",
    "plt.show()"
   ]
  },
  {
   "cell_type": "markdown",
   "metadata": {},
   "source": [
    "**Insight**\n",
    "\n",
    "Dapat dilihat dari diagram garis di atas bahwa pada rentang 19 - 27 April 2020 jumlah tweet masyarakat DKI Jakarta dengan topik COVID-19 yang bermuatan netral jauh lebih banyak dan di susul oleh tweet yang bermuatan positif lalu tweet yang bermuatan netagtif. Dapat dilihat juga bahwa pada tanggal 25 April 2020 tweet yang bermuatan negatif jauh lebih banyak dari tweet yang bermuatan positif."
   ]
  },
  {
   "cell_type": "markdown",
   "metadata": {},
   "source": [
    "## 6. Penutup\n",
    "\n",
    "Telah dilakukan Analisis Sentimen dan juga pemodelan terhadapa data hasil crawling. Data dipreprocess dan dilakukan vectorization menggunakan TF-IDF lalu dilakukan pemodelan. Dari berbagai model yang di uji didapatkan `SVM` adalah model dengan performa terbaik.\n",
    "\n",
    "**Hal yang Dapat Dikembangkan**\n",
    "\n",
    "1. Memperbanyak jumlah data yang dilakukan labeling secara manual\n",
    "2. Melakukan hyperparameter tuning untuk mendapatkan hasil yang lebih maksimal\n",
    "3. Menggunakan Boosting dalam pemodelan seperti, XGBoost, CatBoost, LGBM, dst.\n",
    "4. Menggunakan metode Deep Learning"
   ]
  },
  {
   "cell_type": "code",
   "execution_count": 26,
   "metadata": {},
   "outputs": [],
   "source": [
    "####################\n",
    "## Saving Objects ##\n",
    "####################\n",
    "\n",
    "os.makedirs(\"../output\", exist_ok=True)\n",
    "\n",
    "# Export data baru\n",
    "data.to_csv(\"../output/Data Sentiment Twitter 19 - 27 April.csv\", index=False)\n",
    "\n",
    "# Saving Model\n",
    "for name, model in classifiers.items():\n",
    "    pickle.dump(\n",
    "        model,\n",
    "        open(f\"../output/[TRAINED] {name}_{datetime.today().strftime('%Y-%m-%d')}.pickle\", \"wb\"),\n",
    "    )\n",
    "\n",
    "# Saving Vectorizer\n",
    "pickle.dump(\n",
    "    vectorizer_tfidf,\n",
    "    open(f\"../output/vectorizer_tfidf_{datetime.today().strftime('%Y-%m-%d')}.pickle\", \"wb\"),\n",
    ")"
   ]
  }
 ],
 "metadata": {
  "file_extension": ".py",
  "interpreter": {
   "hash": "1d2847989cb3424f42cd336d7edc6b5452475991b7760d2672271bc4ef6c6185"
  },
  "kernelspec": {
   "display_name": "Python 3.8.10 64-bit ('env')",
   "name": "python3"
  },
  "language_info": {
   "codemirror_mode": {
    "name": "ipython",
    "version": 3
   },
   "file_extension": ".py",
   "mimetype": "text/x-python",
   "name": "python",
   "nbconvert_exporter": "python",
   "pygments_lexer": "ipython3",
   "version": "3.8.10"
  },
  "mimetype": "text/x-python",
  "name": "python",
  "npconvert_exporter": "python",
  "pygments_lexer": "ipython3",
  "version": 3
 },
 "nbformat": 4,
 "nbformat_minor": 2
}